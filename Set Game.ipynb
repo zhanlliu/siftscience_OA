{
 "cells": [
  {
   "cell_type": "code",
   "execution_count": 1,
   "metadata": {},
   "outputs": [],
   "source": [
    "from itertools import combinations"
   ]
  },
  {
   "cell_type": "code",
   "execution_count": 16,
   "metadata": {},
   "outputs": [],
   "source": [
    "lines = open(\"input.txt\").read().splitlines()[1:]"
   ]
  },
  {
   "cell_type": "code",
   "execution_count": 17,
   "metadata": {},
   "outputs": [
    {
     "data": {
      "text/plain": [
       "['blue #',\n",
       " 'green $',\n",
       " 'blue AA',\n",
       " 'yellow @',\n",
       " 'blue @@@',\n",
       " 'green A',\n",
       " 'yellow $$$',\n",
       " 'yellow @@@',\n",
       " 'yellow HHH',\n",
       " 'yellow #',\n",
       " 'yellow @@',\n",
       " 'blue a',\n",
       " 'blue sss',\n",
       " 'green a',\n",
       " 'green @']"
      ]
     },
     "execution_count": 17,
     "metadata": {},
     "output_type": "execute_result"
    }
   ],
   "source": [
    "lines"
   ]
  },
  {
   "cell_type": "code",
   "execution_count": null,
   "metadata": {},
   "outputs": [],
   "source": [
    "def attributes(card):\n",
    "    AttributList = [\"a\", \"s\", \"h\", \"A\",\"S\",\"H\", \"@\",\"$\",\"#\"]\n",
    "    attr_1, attr_rest = card.split()\n",
    "    pos = AttributList.index(attr_rest[0]) \n",
    "    attr_2 = pos%3  \n",
    "    attr_3 = pos//3\n",
    "    attr_4 = len(attr_rest)\n",
    "    return [attr_1, attr_2, attr_3, attr_4]\n",
    "    "
   ]
  },
  {
   "cell_type": "code",
   "execution_count": 87,
   "metadata": {},
   "outputs": [],
   "source": [
    "def all_same(attr1, attr2, attr3):\n",
    "    return attr1 == attr2 and attr2 == attr3"
   ]
  },
  {
   "cell_type": "code",
   "execution_count": 90,
   "metadata": {},
   "outputs": [],
   "source": [
    "def all_different(attr1, attr2, attr3):\n",
    "    return len(set((attr1, attr2, attr3))) ==3"
   ]
  },
  {
   "cell_type": "code",
   "execution_count": 102,
   "metadata": {},
   "outputs": [],
   "source": [
    "def isset(card1, card2, card3):\n",
    "    card1_attr = attributes(card1)\n",
    "    card2_attr = attributes(card2)\n",
    "    card3_attr = attributes(card3)\n",
    "    attr_comb = zip(card1_attr, card2_attr, card3_attr)\n",
    "    attr_comb = list(attr_comb)\n",
    "    return all(all_same(v0, v1, v2) or all_different(v0, v1, v2)\n",
    "              for (v0, v1, v2) in attr_comb)\n",
    "        \n",
    "            "
   ]
  },
  {
   "cell_type": "code",
   "execution_count": 116,
   "metadata": {},
   "outputs": [],
   "source": [
    "temp_res =[]\n",
    "for cards in combinations(lines, 3):\n",
    "    if(isset(cards[0], cards[1], cards[2]) == True):\n",
    "        temp_res.append(cards)\n",
    "return len(temp_res), temp_res"
   ]
  },
  {
   "cell_type": "code",
   "execution_count": 123,
   "metadata": {},
   "outputs": [],
   "source": [
    "def find_set(InputText):\n",
    "    res =[]\n",
    "    lines = open(\"input.txt\").read().splitlines()[1:]\n",
    "    for cards in combinations(lines, 3):\n",
    "        if(isset(cards[0], cards[1], cards[2]) == True):\n",
    "            res.append(cards)\n",
    "    return len(temp_res), temp_res"
   ]
  },
  {
   "cell_type": "code",
   "execution_count": 124,
   "metadata": {},
   "outputs": [
    {
     "data": {
      "text/plain": [
       "(9,\n",
       " [('blue #', 'green $', 'yellow @'),\n",
       "  ('blue #', 'blue AA', 'blue sss'),\n",
       "  ('blue AA', 'blue @@@', 'blue a'),\n",
       "  ('blue AA', 'yellow @@@', 'green a'),\n",
       "  ('yellow @', 'green A', 'blue a'),\n",
       "  ('yellow @', 'yellow @@@', 'yellow @@'),\n",
       "  ('blue @@@', 'yellow @@', 'green @'),\n",
       "  ('green A', 'green a', 'green @'),\n",
       "  ('yellow $$$', 'yellow #', 'yellow @@')])"
      ]
     },
     "execution_count": 124,
     "metadata": {},
     "output_type": "execute_result"
    }
   ],
   "source": [
    "find_set(\"input.txt\")"
   ]
  },
  {
   "cell_type": "code",
   "execution_count": 59,
   "metadata": {},
   "outputs": [],
   "source": [
    "def attributes(card):\n",
    "    AttributList = [\"a\", \"s\", \"h\", \"A\",\"S\",\"H\", \"@\",\"$\",\"#\"]\n",
    "    attr_1, attr_rest = card.split()\n",
    "    pos = AttributList.index(attr_rest[0]) \n",
    "    attr_2 = pos%3  \n",
    "    attr_3 = pos//3\n",
    "    attr_4 = len(attr_rest)\n",
    "    return [attr_1, attr_2, attr_3, attr_4]\n",
    "    "
   ]
  },
  {
   "cell_type": "code",
   "execution_count": 67,
   "metadata": {},
   "outputs": [],
   "source": [
    "card1_attr = attributes(card1)\n",
    "card2_attr = attributes(card2)\n",
    "card3_attr = attributes(card3)"
   ]
  },
  {
   "cell_type": "code",
   "execution_count": null,
   "metadata": {},
   "outputs": [],
   "source": []
  },
  {
   "cell_type": "code",
   "execution_count": null,
   "metadata": {},
   "outputs": [],
   "source": []
  },
  {
   "cell_type": "code",
   "execution_count": 77,
   "metadata": {
    "scrolled": true
   },
   "outputs": [
    {
     "data": {
      "text/plain": [
       "[('blue', 'green', 'blue'), (2, 1, 0), (2, 2, 1), (1, 1, 2)]"
      ]
     },
     "execution_count": 77,
     "metadata": {},
     "output_type": "execute_result"
    }
   ],
   "source": [
    "res = zip(card1_attr, card2_attr, card3_attr)\n",
    "res = list(res)\n",
    "res"
   ]
  },
  {
   "cell_type": "code",
   "execution_count": 95,
   "metadata": {},
   "outputs": [
    {
     "name": "stdout",
     "output_type": "stream",
     "text": [
      "False\n",
      "True\n",
      "False\n",
      "False\n"
     ]
    }
   ],
   "source": [
    "for (card1, card2, card3) in res:\n",
    "    print(all_different(card1, card2, card3))"
   ]
  },
  {
   "cell_type": "code",
   "execution_count": 63,
   "metadata": {},
   "outputs": [
    {
     "data": {
      "text/plain": [
       "'green $'"
      ]
     },
     "execution_count": 63,
     "metadata": {},
     "output_type": "execute_result"
    }
   ],
   "source": [
    "card2d"
   ]
  },
  {
   "cell_type": "code",
   "execution_count": 104,
   "metadata": {},
   "outputs": [],
   "source": [
    "card1 = \"yellow S\"\n",
    "card2 = \"blue aaa\"\n",
    "card3 = \"green ##\""
   ]
  },
  {
   "cell_type": "code",
   "execution_count": 105,
   "metadata": {},
   "outputs": [
    {
     "data": {
      "text/plain": [
       "True"
      ]
     },
     "execution_count": 105,
     "metadata": {},
     "output_type": "execute_result"
    }
   ],
   "source": [
    "isset(card1, card2, card3)"
   ]
  },
  {
   "cell_type": "code",
   "execution_count": 66,
   "metadata": {},
   "outputs": [
    {
     "data": {
      "text/plain": [
       "['blue', 0, 1, 2]"
      ]
     },
     "execution_count": 66,
     "metadata": {},
     "output_type": "execute_result"
    }
   ],
   "source": [
    "attributes(card3)"
   ]
  },
  {
   "cell_type": "code",
   "execution_count": 80,
   "metadata": {},
   "outputs": [],
   "source": [
    "card1_attr = attributes(card1)\n",
    "card2_attr = attributes(card2)\n",
    "card3_attr = attributes(card3)"
   ]
  },
  {
   "cell_type": "code",
   "execution_count": 83,
   "metadata": {},
   "outputs": [
    {
     "ename": "TypeError",
     "evalue": "'type' object is not subscriptable",
     "output_type": "error",
     "traceback": [
      "\u001b[1;31m---------------------------------------------------------------------------\u001b[0m",
      "\u001b[1;31mTypeError\u001b[0m                                 Traceback (most recent call last)",
      "\u001b[1;32m<ipython-input-83-fc883b5e03d7>\u001b[0m in \u001b[0;36m<module>\u001b[1;34m()\u001b[0m\n\u001b[1;32m----> 1\u001b[1;33m \u001b[0mlist\u001b[0m\u001b[1;33m[\u001b[0m\u001b[0mzip\u001b[0m\u001b[1;33m(\u001b[0m\u001b[0mcard1_attr\u001b[0m\u001b[1;33m,\u001b[0m \u001b[0mcard2_attr\u001b[0m\u001b[1;33m,\u001b[0m \u001b[0mcard3_attr\u001b[0m\u001b[1;33m)\u001b[0m\u001b[1;33m]\u001b[0m\u001b[1;33m\u001b[0m\u001b[0m\n\u001b[0m",
      "\u001b[1;31mTypeError\u001b[0m: 'type' object is not subscriptable"
     ]
    }
   ],
   "source": [
    "list[zip(card1_attr, card2_attr, card3_attr)]"
   ]
  },
  {
   "cell_type": "code",
   "execution_count": null,
   "metadata": {},
   "outputs": [],
   "source": []
  }
 ],
 "metadata": {
  "kernelspec": {
   "display_name": "Python 3",
   "language": "python",
   "name": "python3"
  },
  "language_info": {
   "codemirror_mode": {
    "name": "ipython",
    "version": 3
   },
   "file_extension": ".py",
   "mimetype": "text/x-python",
   "name": "python",
   "nbconvert_exporter": "python",
   "pygments_lexer": "ipython3",
   "version": "3.6.4"
  }
 },
 "nbformat": 4,
 "nbformat_minor": 2
}
