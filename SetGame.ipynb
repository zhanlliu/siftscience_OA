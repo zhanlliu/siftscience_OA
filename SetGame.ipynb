{
 "cells": [
  {
   "cell_type": "code",
   "execution_count": 1,
   "metadata": {},
   "outputs": [],
   "source": [
    "from itertools import combinations"
   ]
  },
  {
   "cell_type": "code",
   "execution_count": 2,
   "metadata": {},
   "outputs": [],
   "source": [
    "def attributes(card):\n",
    "    AttributList = [\"a\", \"s\", \"h\", \"A\",\"S\",\"H\", \"@\",\"$\",\"#\"]\n",
    "    attr_1, attr_rest = card.split()\n",
    "    pos = AttributList.index(attr_rest[0]) \n",
    "    attr_2 = pos%3  \n",
    "    attr_3 = pos//3\n",
    "    attr_4 = len(attr_rest)\n",
    "    return [attr_1, attr_2, attr_3, attr_4]\n",
    "    "
   ]
  },
  {
   "cell_type": "code",
   "execution_count": 3,
   "metadata": {},
   "outputs": [],
   "source": [
    "def all_same(attr1, attr2, attr3):\n",
    "    return attr1 == attr2 and attr2 == attr3\n",
    "def all_different(attr1, attr2, attr3):\n",
    "    return len(set((attr1, attr2, attr3))) ==3"
   ]
  },
  {
   "cell_type": "code",
   "execution_count": 4,
   "metadata": {},
   "outputs": [],
   "source": [
    "def isset(card1, card2, card3):\n",
    "    card1_attr = attributes(card1)\n",
    "    card2_attr = attributes(card2)\n",
    "    card3_attr = attributes(card3)\n",
    "    attr_comb = zip(card1_attr, card2_attr, card3_attr)\n",
    "    attr_comb = list(attr_comb)\n",
    "    return all(all_same(v0, v1, v2) or all_different(v0, v1, v2)\n",
    "              for (v0, v1, v2) in attr_comb)\n",
    "        \n",
    "            "
   ]
  },
  {
   "cell_type": "code",
   "execution_count": 7,
   "metadata": {},
   "outputs": [],
   "source": [
    "def dis_jointSet(input_num, allsets):\n",
    "    if len(allsets) ==1:\n",
    "        return allsets\n",
    "    else:\n",
    "        dis_joint_set = []\n",
    "        max_dis = input_num//3 \n",
    "        for i in range(2, max_dis, 1):\n",
    "            comb = combinations(allsets, i)\n",
    "            for x in comb:\n",
    "                s = set(x[0])\n",
    "                for y in x[1:]:\n",
    "                    if len(s & set(y))!=0:\n",
    "                        break\n",
    "                    else:\n",
    "                        s.update(y)\n",
    "                else:\n",
    "                    dis_joint_set.append(list(x))\n",
    "        return dis_joint_set\n",
    "\n",
    "def longest_disjoint(dis_joint_set):\n",
    "    return sorted(dis_joint_set, key=len)[-1]\n",
    "def find_set(InputText):\n",
    "    set_res =[]\n",
    "    input_num = int(open(InputText).read().splitlines()[0])\n",
    "    lines = open(InputText).read().splitlines()[1:]\n",
    "    for cards in combinations(lines, 3):\n",
    "        if(isset(cards[0], cards[1], cards[2]) == True):\n",
    "            set_res.append(list(cards))\n",
    "    if(len(set_res) == 0):\n",
    "        print(\"There is no set\")\n",
    "    else:\n",
    "        dis_joint_set = dis_jointSet(input_num, set_res)\n",
    "        res = longest_disjoint(dis_joint_set)\n",
    "        return len(set_res), len(res), res"
   ]
  },
  {
   "cell_type": "code",
   "execution_count": 25,
   "metadata": {},
   "outputs": [
    {
     "name": "stdout",
     "output_type": "stream",
     "text": [
      "9\n",
      "4\n",
      "\n",
      "blue #\n",
      "green $\n",
      "yellow @\n",
      "\n",
      "blue AA\n",
      "blue @@@\n",
      "blue a\n",
      "\n",
      "green A\n",
      "green a\n",
      "green @\n",
      "\n",
      "yellow $$$\n",
      "yellow #\n",
      "yellow @@\n",
      "\n"
     ]
    }
   ],
   "source": [
    "res = find_set(\"input2.txt\")\n",
    "for i in range(2):\n",
    "    print(res[i])\n",
    "print('')\n",
    "for each in res[2]:\n",
    "    for j in range(3):\n",
    "        print(each[j])\n",
    "    print('')"
   ]
  },
  {
   "cell_type": "code",
   "execution_count": 26,
   "metadata": {},
   "outputs": [
    {
     "name": "stdout",
     "output_type": "stream",
     "text": [
      "41\n",
      "8\n",
      "\n",
      "yellow @ \n",
      "blue AA \n",
      "green aaa \n",
      "\n",
      "green ## \n",
      "green A \n",
      "green sss\n",
      "\n",
      "yellow ### \n",
      "green S \n",
      "blue aa \n",
      "\n",
      "green SSS\n",
      "blue ss \n",
      "yellow $ \n",
      "\n",
      "blue ###\n",
      "yellow s \n",
      "green AA \n",
      "\n",
      "yellow ## \n",
      "yellow AA \n",
      "yellow ss \n",
      "\n",
      "blue $ \n",
      "green SS \n",
      "yellow sss \n",
      "\n",
      "green ### \n",
      "green HH \n",
      "green h \n",
      "\n"
     ]
    }
   ],
   "source": [
    "res = find_set(\"input.txt\")\n",
    "for i in range(2):\n",
    "    print(res[i])\n",
    "print('')\n",
    "for each in res[2]:\n",
    "    for j in range(3):\n",
    "        print(each[j])\n",
    "    print('')"
   ]
  },
  {
   "cell_type": "code",
   "execution_count": null,
   "metadata": {},
   "outputs": [],
   "source": []
  }
 ],
 "metadata": {
  "kernelspec": {
   "display_name": "Python 3",
   "language": "python",
   "name": "python3"
  },
  "language_info": {
   "codemirror_mode": {
    "name": "ipython",
    "version": 3
   },
   "file_extension": ".py",
   "mimetype": "text/x-python",
   "name": "python",
   "nbconvert_exporter": "python",
   "pygments_lexer": "ipython3",
   "version": "3.6.5"
  }
 },
 "nbformat": 4,
 "nbformat_minor": 2
}
